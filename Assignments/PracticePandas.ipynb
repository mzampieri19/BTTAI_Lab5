{
 "cells": [
  {
   "cell_type": "markdown",
   "metadata": {},
   "source": [
    "## Pandas: Creating & Viewing Data\n",
    "\n",
    "Pandas is a popular package in the Python Machine Learning ecosystem. It is used for data manipulation and analysis and offers many unique features. Pandas is tailored toward working with structured, tabular data, such as the kind of data that you would find in spreadsheets and in relational databases. \n",
    "\n",
    "One of Pandas' core data structures is called the DataFrame, which is a two-dimensional table in which data is organized in rows and columns.\n",
    "Pandas is well integrated in the Python Machine Learning ecosystem. Many common ML libraries work with Pandas DataFrames, allowing for a seamless transition from data preparation to model building.\n",
    "\n",
    "Pandas is the primary package we will use in this program to operate on data. In this exercise you will use Pandas to practice creating data, accessing and viewing data.\n",
    "\n",
    "For more information about the Pandas package and Pandas DataFrames, consult the Pandas online [API Reference](https://pandas.pydata.org/docs/reference/index.html)."
   ]
  },
  {
   "cell_type": "markdown",
   "metadata": {},
   "source": [
    "## Step 1\n",
    "\n",
    "The code cell below imports the `pandas` package, using its conventional shorthand name, `pd`. It then imports the `numpy` package using its conventional shorthand name, `np`. Run the cell below."
   ]
  },
  {
   "cell_type": "code",
   "execution_count": 1,
   "metadata": {},
   "outputs": [],
   "source": [
    "import pandas as pd\n",
    "import numpy as np"
   ]
  },
  {
   "cell_type": "markdown",
   "metadata": {},
   "source": [
    "## Step 2\n",
    "\n",
    "In the code cell below, use numpy's `np.random.normal()` function to create two arrays, each with size=100, loc=0.0, and scale=1.0. Name your arrays `a` and `b`.\n",
    "\n",
    "\n",
    "If you would like to learn how to use the `np.random.normal()` function, use the help <b>?</b> functionality by running the line `np.random.normal?` in the code cell below. Recall that you can use help by specifying the function name (in this case, `np.random.normal`), followed by `?`. You can also access the online [documentation](https://numpy.org/doc/stable/reference/random/generated/numpy.random.normal.html).\n",
    "\n"
   ]
  },
  {
   "cell_type": "markdown",
   "metadata": {},
   "source": [
    "### Graded Cell\n",
    "\n",
    "The cell below will be graded. Remove the line \"raise NotImplementedError()\" before writing your code."
   ]
  },
  {
   "cell_type": "code",
   "execution_count": 30,
   "metadata": {
    "deletable": false,
    "nbgrader": {
     "checksum": "ee34189787d27b0e4cfc16d497ebc2f7",
     "grade": false,
     "grade_id": "cell-a-b",
     "locked": false,
     "schema_version": 1,
     "solution": true
    }
   },
   "outputs": [],
   "source": [
    "# YOUR CODE HERE\n",
    "a = np.random.normal(size = 100)\n",
    "b = np.random.normal(size = 100)"
   ]
  },
  {
   "cell_type": "markdown",
   "metadata": {},
   "source": [
    "### Self-Check\n",
    "\n",
    "Run the cell below to test the correctness of your code above before submitting for grading. Do not add code or delete code in the cell."
   ]
  },
  {
   "cell_type": "code",
   "execution_count": 31,
   "metadata": {
    "deletable": false,
    "editable": false,
    "nbgrader": {
     "checksum": "cb20f6f7fabe601393f74b7a0a3b0805",
     "grade": true,
     "grade_id": "cell-a-b-test",
     "locked": true,
     "points": 1,
     "schema_version": 1,
     "solution": false
    }
   },
   "outputs": [
    {
     "name": "stdout",
     "output_type": "stream",
     "text": [
      "Correct!\n"
     ]
    }
   ],
   "source": [
    "# Run this self-test cell to check your code; \n",
    "# do not add code or delete code in this cell\n",
    "from jn import testAB\n",
    "\n",
    "try:\n",
    "    p, err = testAB(a,b)\n",
    "    print(err)\n",
    "except Exception as e:\n",
    "    print(\"Error!\\n\" + str(e))\n",
    "    \n"
   ]
  },
  {
   "cell_type": "markdown",
   "metadata": {},
   "source": [
    "## Step 3\n",
    "\n",
    "Now we'll convert our data to a Pandas DataFrame. The `DataFrame()` function is the primary way to create DataFrames. You will use this approach to create a DataFrame out of the two arrays created in the previous step. \n",
    "\n",
    "Your DataFrame will contain two columns, named `x1` and `x2`.\n",
    "\n",
    "1: First create a Python dictionary in which the keys are the names of the columns you want to create, and the values are the arrays. Column `x1` will contain array `a` and column `x2` will contain array `b`. Assign this dictionary to variable `d`.\n",
    "\n",
    "2: Next use the `pd.DataFrame()` function to convert dictionary `d` to a DataFrame, and assign the result to variable `df`.\n",
    "\n",
    "For more information on how to use the `DataFrame()` function, consult the online [documentation](https://pandas.pydata.org/docs/reference/api/pandas.DataFrame.html#pandas.DataFrame)."
   ]
  },
  {
   "cell_type": "markdown",
   "metadata": {},
   "source": [
    "### Graded Cell\n",
    "\n",
    "The cell below will be graded. Remove the line \"raise NotImplementedError()\" before writing your code."
   ]
  },
  {
   "cell_type": "code",
   "execution_count": 32,
   "metadata": {
    "deletable": false,
    "nbgrader": {
     "checksum": "03e92bb3bc377629072eafb372f2e22f",
     "grade": false,
     "grade_id": "cell-df",
     "locked": false,
     "schema_version": 1,
     "solution": true
    }
   },
   "outputs": [],
   "source": [
    "# YOUR CODE HERE\n",
    "d = {'x1': a, 'x2': b}\n",
    "df = pd.DataFrame(d)"
   ]
  },
  {
   "cell_type": "markdown",
   "metadata": {},
   "source": [
    "### Self-Check\n",
    "\n",
    "Run the cell below to test the correctness of your code above before submitting for grading. Do not add code or delete code in the cell."
   ]
  },
  {
   "cell_type": "code",
   "execution_count": 33,
   "metadata": {
    "deletable": false,
    "editable": false,
    "nbgrader": {
     "checksum": "435674309e871e93dece73fc69184e14",
     "grade": true,
     "grade_id": "cell-df-test",
     "locked": true,
     "points": 2,
     "schema_version": 1,
     "solution": false
    }
   },
   "outputs": [
    {
     "name": "stdout",
     "output_type": "stream",
     "text": [
      "Correct!\n"
     ]
    }
   ],
   "source": [
    "# Run this self-test cell to check your code; \n",
    "# do not add code or delete code in this cell\n",
    "from jn import testDf\n",
    "\n",
    "try:\n",
    "    p, err = testDf(d,df,a,b)\n",
    "    print(err)\n",
    "except Exception as e:\n",
    "    print(\"Error!\\n\" + str(e))\n",
    "    \n"
   ]
  },
  {
   "cell_type": "markdown",
   "metadata": {},
   "source": [
    "### Step 4\n",
    "\n",
    "The Pandas `head()` method allows you to view the first <i>n</i> rows in a DataFrame. The syntax is `DataFrame_obj.head()`. You can consult the [online documentation](https://pandas.pydata.org/docs/reference/api/pandas.DataFrame.head.html) to see how to use this method. You can also use IPython's `help` functionality by typing `df.head?` in the cell below. Recall that you can obtain documentation by specifying the object name (in this case, `df`), followed by the method or property (in this case, `head`), followed by `?`.\n",
    "\n",
    "\n",
    "In the code cell below, use the `head()` method to view the first 5 rows of dataframe `df`.\n"
   ]
  },
  {
   "cell_type": "code",
   "execution_count": 34,
   "metadata": {},
   "outputs": [],
   "source": [
    "# YOUR CODE HERE - this cell will not be graded\n",
    "df.head?"
   ]
  },
  {
   "cell_type": "markdown",
   "metadata": {},
   "source": [
    "### DataFrame Indexing and Slicing\n",
    "\n",
    "As you have seen, DataFrames are two-dimensional tables, labeled by row and column names, containing a set of column-oriented data such that each column has a particular datatype (dtype). Like Python lists, Pandas DataFrames use 0-based indexing. That is, the first row in a DataFrame has an index of 0 and the first column in a DataFrame has an index of 0.\n",
    "\n",
    "You may be familiar with indexing, which is the process of accessing elements of data in a data structure such as a list or a dictionary by specifying which element(s) one is interested in. Just as you can index into Python lists and dictionaries, you can also index into Pandas DataFrames. Because DataFrames have row and column labels (names), Pandas provides a very useful ability to index, either based on those labels or on the positions of rows and columns. For example: Python lists and NumPy arrays are indexed by integer position (e.g., ```my_list[3]``` or ```my_array[5,7]```), while Python dictionaries are indexed by keys (e.g., ```my_dict['name']```).  Because Pandas DataFrames contain data in a positional order, *and* have row and column labels, they can be indexed both by position and by label. You can also \"slice\" a Pandas DataFrame. Slicing allows you to select a subset of rows or columns from the DataFrame. Just as with Python lists, slicing is supported using the colon operator ```:``` (you can also use the colon operator to slice into NumPy arrays).\n",
    "\n",
    "\n",
    "#### Mechanisms for indexing and Slicing\n",
    "\n",
    "Indexing and slicing DataFrames can be done through various mechanisms: \n",
    "\n",
    "* ```[]```\n",
    "* ```loc[]```\n",
    "* ```iloc[]```\n",
    "\n",
    "\n",
    "The first of these, ```[]```, is the square-bracket based indexing that we are familiar with from Python lists and  dictionaries.  Because Pandas DataFrames are generally column-oriented, however, indexing with square brackets results in selecting a particular column based on its label. Each column in the DataFrame is of the Pandas Series datatype, which is a one-dimensional array, similar to a NumPy array. We can loosely think of a DataFrame as something like a dictionary of Series objects: each column label is like a key, and the value associated with that key is the data in that particular column, which is a Pandas Series.  For example, ```df['x2']``` will extract the column labeled 'x2' and will return a Series. \n",
    "\n",
    "You can slice a DataFrame using square-bracket based indexing. This will allow you to slice the rows in the DataFrame using an integer range. For example, `df[:3]` will return the first three rows in the DataFrame.\n",
    "\n",
    "Indexing and slicing a DataFrame using ```loc``` is more general, in that it enables you to access both rows and columns based on their labels.  It uses the same sort of multi-dimensional indexing that you may have seen with other data structures (e.g. `[][]`), although with row and/or column labels rather than integer positional indexes.  By this we mean that the first entry in an index refers to row label, and the second index refers to a column label.  If only one entry is specified, it is used to identify a row in a DataFrame. The syntax for `loc` is `DataFrame_obj.loc[]` or `DataFrame_obj.loc[][]`. \n",
    "\n",
    "On the other hand, `iloc` allows you to access rows and columns with specific integer positions (integer-based indexing). The syntax for `iloc` is `DataFrame_obj.iloc[]` or `DataFrame_obj.iloc[][]`.\n",
    "\n",
    "\n",
    "In the steps below, you will practice indexing and slicing a DataFrame using some of the above methods.  Online Pandas documentation describing indexing and slicing in great detail can be found [here](https://pandas.pydata.org/pandas-docs/stable/user_guide/indexing.html).\n",
    "\n",
    "\n"
   ]
  },
  {
   "cell_type": "markdown",
   "metadata": {},
   "source": [
    "### Step 5\n",
    "\n",
    "Add a new column to your `df` DataFrame. You can add this new column to `df` by:\n",
    "1. using bracket notation and specifying the label of the new column: <code>df['new_column_label']</code>\n",
    "2. assigning it the values of the column: \n",
    "<code>df['new_column_label'] = column values</code>\n",
    "\n",
    "\n",
    "Name your new column <b>x3</b>.  Column <b>x3</b> will consist of the sum of the values in column <b>x1</b> and column <b>x2</b>. Hint: You can access each column using bracket notation as seen above, and you can add entire columns together using the addition operation (`+`).\n",
    "\n",
    "After you have added the new column `x3` to DataFrame `df`, use the `head()` method to examine the new values in `df`.\n"
   ]
  },
  {
   "cell_type": "markdown",
   "metadata": {},
   "source": [
    "### Graded Cell\n",
    "\n",
    "The cell below will be graded. Remove the line \"raise NotImplementedError()\" before writing your code."
   ]
  },
  {
   "cell_type": "code",
   "execution_count": 35,
   "metadata": {
    "deletable": false,
    "nbgrader": {
     "checksum": "4c3d49749599ff1b250540fd6b1c6c5f",
     "grade": false,
     "grade_id": "cell-columnx3",
     "locked": false,
     "schema_version": 1,
     "solution": true
    }
   },
   "outputs": [
    {
     "data": {
      "text/html": [
       "<div>\n",
       "<style scoped>\n",
       "    .dataframe tbody tr th:only-of-type {\n",
       "        vertical-align: middle;\n",
       "    }\n",
       "\n",
       "    .dataframe tbody tr th {\n",
       "        vertical-align: top;\n",
       "    }\n",
       "\n",
       "    .dataframe thead th {\n",
       "        text-align: right;\n",
       "    }\n",
       "</style>\n",
       "<table border=\"1\" class=\"dataframe\">\n",
       "  <thead>\n",
       "    <tr style=\"text-align: right;\">\n",
       "      <th></th>\n",
       "      <th>x1</th>\n",
       "      <th>x2</th>\n",
       "      <th>x3</th>\n",
       "    </tr>\n",
       "  </thead>\n",
       "  <tbody>\n",
       "    <tr>\n",
       "      <th>0</th>\n",
       "      <td>-0.367617</td>\n",
       "      <td>-1.775921</td>\n",
       "      <td>-2.143538</td>\n",
       "    </tr>\n",
       "    <tr>\n",
       "      <th>1</th>\n",
       "      <td>0.423695</td>\n",
       "      <td>-1.419214</td>\n",
       "      <td>-0.995519</td>\n",
       "    </tr>\n",
       "    <tr>\n",
       "      <th>2</th>\n",
       "      <td>-0.945271</td>\n",
       "      <td>0.404573</td>\n",
       "      <td>-0.540697</td>\n",
       "    </tr>\n",
       "    <tr>\n",
       "      <th>3</th>\n",
       "      <td>0.135880</td>\n",
       "      <td>0.174615</td>\n",
       "      <td>0.310495</td>\n",
       "    </tr>\n",
       "    <tr>\n",
       "      <th>4</th>\n",
       "      <td>-1.064529</td>\n",
       "      <td>1.472972</td>\n",
       "      <td>0.408442</td>\n",
       "    </tr>\n",
       "  </tbody>\n",
       "</table>\n",
       "</div>"
      ],
      "text/plain": [
       "         x1        x2        x3\n",
       "0 -0.367617 -1.775921 -2.143538\n",
       "1  0.423695 -1.419214 -0.995519\n",
       "2 -0.945271  0.404573 -0.540697\n",
       "3  0.135880  0.174615  0.310495\n",
       "4 -1.064529  1.472972  0.408442"
      ]
     },
     "execution_count": 35,
     "metadata": {},
     "output_type": "execute_result"
    }
   ],
   "source": [
    "# YOUR CODE HERE\n",
    "df['x3'] = df['x1'] + df['x2']\n",
    "df.head()"
   ]
  },
  {
   "cell_type": "markdown",
   "metadata": {},
   "source": [
    "### Self-Check\n",
    "\n",
    "Run the cell below to test the correctness of your code above before submitting for grading. Do not add code or delete code in the cell."
   ]
  },
  {
   "cell_type": "code",
   "execution_count": 36,
   "metadata": {
    "deletable": false,
    "editable": false,
    "nbgrader": {
     "checksum": "8ecd6ff2e99854b55e490a6334700801",
     "grade": true,
     "grade_id": "cell-columnx3-test",
     "locked": true,
     "points": 2,
     "schema_version": 1,
     "solution": false
    }
   },
   "outputs": [
    {
     "name": "stdout",
     "output_type": "stream",
     "text": [
      "Correct!\n"
     ]
    }
   ],
   "source": [
    "# Run this self-test cell to check your code; \n",
    "# do not add code or delete code in this cell\n",
    "from jn import testCol\n",
    "\n",
    "try:\n",
    "    p, err = testCol(df)\n",
    "    print(err)\n",
    "except Exception as e:\n",
    "    print(\"Error!\\n\" + str(e))\n",
    "    \n"
   ]
  },
  {
   "cell_type": "markdown",
   "metadata": {},
   "source": [
    "### Step 6\n",
    "\n",
    "Oftentimes you may want to access a value in a specific example (row) in your DataFrame. Run the code cell below and examine the values in DataFrame `df`. Note the value in column <b>x1</b> of row <b>5</b> (row with the index of 5).\n"
   ]
  },
  {
   "cell_type": "code",
   "execution_count": 37,
   "metadata": {},
   "outputs": [
    {
     "data": {
      "text/html": [
       "<div>\n",
       "<style scoped>\n",
       "    .dataframe tbody tr th:only-of-type {\n",
       "        vertical-align: middle;\n",
       "    }\n",
       "\n",
       "    .dataframe tbody tr th {\n",
       "        vertical-align: top;\n",
       "    }\n",
       "\n",
       "    .dataframe thead th {\n",
       "        text-align: right;\n",
       "    }\n",
       "</style>\n",
       "<table border=\"1\" class=\"dataframe\">\n",
       "  <thead>\n",
       "    <tr style=\"text-align: right;\">\n",
       "      <th></th>\n",
       "      <th>x1</th>\n",
       "      <th>x2</th>\n",
       "      <th>x3</th>\n",
       "    </tr>\n",
       "  </thead>\n",
       "  <tbody>\n",
       "    <tr>\n",
       "      <th>0</th>\n",
       "      <td>-0.367617</td>\n",
       "      <td>-1.775921</td>\n",
       "      <td>-2.143538</td>\n",
       "    </tr>\n",
       "    <tr>\n",
       "      <th>1</th>\n",
       "      <td>0.423695</td>\n",
       "      <td>-1.419214</td>\n",
       "      <td>-0.995519</td>\n",
       "    </tr>\n",
       "    <tr>\n",
       "      <th>2</th>\n",
       "      <td>-0.945271</td>\n",
       "      <td>0.404573</td>\n",
       "      <td>-0.540697</td>\n",
       "    </tr>\n",
       "    <tr>\n",
       "      <th>3</th>\n",
       "      <td>0.135880</td>\n",
       "      <td>0.174615</td>\n",
       "      <td>0.310495</td>\n",
       "    </tr>\n",
       "    <tr>\n",
       "      <th>4</th>\n",
       "      <td>-1.064529</td>\n",
       "      <td>1.472972</td>\n",
       "      <td>0.408442</td>\n",
       "    </tr>\n",
       "    <tr>\n",
       "      <th>5</th>\n",
       "      <td>-1.052591</td>\n",
       "      <td>-0.050170</td>\n",
       "      <td>-1.102761</td>\n",
       "    </tr>\n",
       "  </tbody>\n",
       "</table>\n",
       "</div>"
      ],
      "text/plain": [
       "         x1        x2        x3\n",
       "0 -0.367617 -1.775921 -2.143538\n",
       "1  0.423695 -1.419214 -0.995519\n",
       "2 -0.945271  0.404573 -0.540697\n",
       "3  0.135880  0.174615  0.310495\n",
       "4 -1.064529  1.472972  0.408442\n",
       "5 -1.052591 -0.050170 -1.102761"
      ]
     },
     "execution_count": 37,
     "metadata": {},
     "output_type": "execute_result"
    }
   ],
   "source": [
    "df.head(6)"
   ]
  },
  {
   "cell_type": "markdown",
   "metadata": {},
   "source": [
    "Pandas allows you to retrieve this value. It allows you to access a row as if it were a list using either `iloc` or `loc`. You can specify the column and row by using bracket notation and supplying either the label when using `loc` or its numerical index position when using `iloc`. \n",
    "\n",
    "Examine the code in the cells below and run the cells to see the results. Notice that they both return the expected value."
   ]
  },
  {
   "cell_type": "code",
   "execution_count": 23,
   "metadata": {},
   "outputs": [
    {
     "data": {
      "text/plain": [
       "-0.3607805006707748"
      ]
     },
     "execution_count": 23,
     "metadata": {},
     "output_type": "execute_result"
    }
   ],
   "source": [
    "# Note that while loc accesses rows based on their labels (names), the code is using an integer value to \n",
    "# access the row. \n",
    "# This is because in DataFrame df, a row's label is the same as its numerical index position.\n",
    "# Therefore loc is using the label of 5 to access the row\n",
    "\n",
    "df.loc[5]['x1']"
   ]
  },
  {
   "cell_type": "code",
   "execution_count": 24,
   "metadata": {},
   "outputs": [
    {
     "data": {
      "text/plain": [
       "-0.3607805006707748"
      ]
     },
     "execution_count": 24,
     "metadata": {},
     "output_type": "execute_result"
    }
   ],
   "source": [
    "df.iloc[5][0]"
   ]
  },
  {
   "cell_type": "markdown",
   "metadata": {},
   "source": [
    "### Step 7\n",
    "\n",
    "You can also access a subset of rows and columns in a DataFrame using slicing. The code cell below retrieves the rows starting at row 10 and ending at row 13."
   ]
  },
  {
   "cell_type": "code",
   "execution_count": 25,
   "metadata": {},
   "outputs": [
    {
     "data": {
      "text/html": [
       "<div>\n",
       "<style scoped>\n",
       "    .dataframe tbody tr th:only-of-type {\n",
       "        vertical-align: middle;\n",
       "    }\n",
       "\n",
       "    .dataframe tbody tr th {\n",
       "        vertical-align: top;\n",
       "    }\n",
       "\n",
       "    .dataframe thead th {\n",
       "        text-align: right;\n",
       "    }\n",
       "</style>\n",
       "<table border=\"1\" class=\"dataframe\">\n",
       "  <thead>\n",
       "    <tr style=\"text-align: right;\">\n",
       "      <th></th>\n",
       "      <th>x1</th>\n",
       "      <th>x2</th>\n",
       "      <th>x3</th>\n",
       "    </tr>\n",
       "  </thead>\n",
       "  <tbody>\n",
       "    <tr>\n",
       "      <th>10</th>\n",
       "      <td>0.889266</td>\n",
       "      <td>-0.607033</td>\n",
       "      <td>0.282233</td>\n",
       "    </tr>\n",
       "    <tr>\n",
       "      <th>11</th>\n",
       "      <td>1.303118</td>\n",
       "      <td>-0.911185</td>\n",
       "      <td>0.391933</td>\n",
       "    </tr>\n",
       "    <tr>\n",
       "      <th>12</th>\n",
       "      <td>1.378445</td>\n",
       "      <td>0.224306</td>\n",
       "      <td>1.602750</td>\n",
       "    </tr>\n",
       "    <tr>\n",
       "      <th>13</th>\n",
       "      <td>0.859810</td>\n",
       "      <td>0.942407</td>\n",
       "      <td>1.802217</td>\n",
       "    </tr>\n",
       "  </tbody>\n",
       "</table>\n",
       "</div>"
      ],
      "text/plain": [
       "          x1        x2        x3\n",
       "10  0.889266 -0.607033  0.282233\n",
       "11  1.303118 -0.911185  0.391933\n",
       "12  1.378445  0.224306  1.602750\n",
       "13  0.859810  0.942407  1.802217"
      ]
     },
     "execution_count": 25,
     "metadata": {},
     "output_type": "execute_result"
    }
   ],
   "source": [
    "df[10:14]"
   ]
  },
  {
   "cell_type": "markdown",
   "metadata": {},
   "source": [
    "You can also use slicing to specify every nth value. The code cell below outputs every 8th row in the DataFrame."
   ]
  },
  {
   "cell_type": "code",
   "execution_count": 26,
   "metadata": {},
   "outputs": [
    {
     "data": {
      "text/html": [
       "<div>\n",
       "<style scoped>\n",
       "    .dataframe tbody tr th:only-of-type {\n",
       "        vertical-align: middle;\n",
       "    }\n",
       "\n",
       "    .dataframe tbody tr th {\n",
       "        vertical-align: top;\n",
       "    }\n",
       "\n",
       "    .dataframe thead th {\n",
       "        text-align: right;\n",
       "    }\n",
       "</style>\n",
       "<table border=\"1\" class=\"dataframe\">\n",
       "  <thead>\n",
       "    <tr style=\"text-align: right;\">\n",
       "      <th></th>\n",
       "      <th>x1</th>\n",
       "      <th>x2</th>\n",
       "      <th>x3</th>\n",
       "    </tr>\n",
       "  </thead>\n",
       "  <tbody>\n",
       "    <tr>\n",
       "      <th>0</th>\n",
       "      <td>-1.833235</td>\n",
       "      <td>1.241593</td>\n",
       "      <td>-0.591642</td>\n",
       "    </tr>\n",
       "    <tr>\n",
       "      <th>8</th>\n",
       "      <td>-0.338125</td>\n",
       "      <td>0.261312</td>\n",
       "      <td>-0.076812</td>\n",
       "    </tr>\n",
       "    <tr>\n",
       "      <th>16</th>\n",
       "      <td>-1.477104</td>\n",
       "      <td>0.861876</td>\n",
       "      <td>-0.615228</td>\n",
       "    </tr>\n",
       "    <tr>\n",
       "      <th>24</th>\n",
       "      <td>-1.296812</td>\n",
       "      <td>0.292714</td>\n",
       "      <td>-1.004098</td>\n",
       "    </tr>\n",
       "    <tr>\n",
       "      <th>32</th>\n",
       "      <td>-1.882960</td>\n",
       "      <td>0.483389</td>\n",
       "      <td>-1.399571</td>\n",
       "    </tr>\n",
       "    <tr>\n",
       "      <th>40</th>\n",
       "      <td>-0.187065</td>\n",
       "      <td>1.062024</td>\n",
       "      <td>0.874960</td>\n",
       "    </tr>\n",
       "    <tr>\n",
       "      <th>48</th>\n",
       "      <td>0.143620</td>\n",
       "      <td>0.918101</td>\n",
       "      <td>1.061722</td>\n",
       "    </tr>\n",
       "    <tr>\n",
       "      <th>56</th>\n",
       "      <td>-0.167890</td>\n",
       "      <td>-0.434105</td>\n",
       "      <td>-0.601995</td>\n",
       "    </tr>\n",
       "    <tr>\n",
       "      <th>64</th>\n",
       "      <td>0.143118</td>\n",
       "      <td>-0.035324</td>\n",
       "      <td>0.107794</td>\n",
       "    </tr>\n",
       "    <tr>\n",
       "      <th>72</th>\n",
       "      <td>-0.374516</td>\n",
       "      <td>0.201689</td>\n",
       "      <td>-0.172827</td>\n",
       "    </tr>\n",
       "    <tr>\n",
       "      <th>80</th>\n",
       "      <td>-0.379215</td>\n",
       "      <td>0.824263</td>\n",
       "      <td>0.445048</td>\n",
       "    </tr>\n",
       "    <tr>\n",
       "      <th>88</th>\n",
       "      <td>0.670272</td>\n",
       "      <td>-1.264348</td>\n",
       "      <td>-0.594076</td>\n",
       "    </tr>\n",
       "    <tr>\n",
       "      <th>96</th>\n",
       "      <td>1.686427</td>\n",
       "      <td>-0.891644</td>\n",
       "      <td>0.794783</td>\n",
       "    </tr>\n",
       "  </tbody>\n",
       "</table>\n",
       "</div>"
      ],
      "text/plain": [
       "          x1        x2        x3\n",
       "0  -1.833235  1.241593 -0.591642\n",
       "8  -0.338125  0.261312 -0.076812\n",
       "16 -1.477104  0.861876 -0.615228\n",
       "24 -1.296812  0.292714 -1.004098\n",
       "32 -1.882960  0.483389 -1.399571\n",
       "40 -0.187065  1.062024  0.874960\n",
       "48  0.143620  0.918101  1.061722\n",
       "56 -0.167890 -0.434105 -0.601995\n",
       "64  0.143118 -0.035324  0.107794\n",
       "72 -0.374516  0.201689 -0.172827\n",
       "80 -0.379215  0.824263  0.445048\n",
       "88  0.670272 -1.264348 -0.594076\n",
       "96  1.686427 -0.891644  0.794783"
      ]
     },
     "execution_count": 26,
     "metadata": {},
     "output_type": "execute_result"
    }
   ],
   "source": [
    "df[::8]"
   ]
  },
  {
   "cell_type": "markdown",
   "metadata": {},
   "source": [
    "The cell below uses `iloc` to return the column with an index of 2 (column: `x3`) in rows 10-13."
   ]
  },
  {
   "cell_type": "code",
   "execution_count": 27,
   "metadata": {},
   "outputs": [
    {
     "data": {
      "text/html": [
       "<div>\n",
       "<style scoped>\n",
       "    .dataframe tbody tr th:only-of-type {\n",
       "        vertical-align: middle;\n",
       "    }\n",
       "\n",
       "    .dataframe tbody tr th {\n",
       "        vertical-align: top;\n",
       "    }\n",
       "\n",
       "    .dataframe thead th {\n",
       "        text-align: right;\n",
       "    }\n",
       "</style>\n",
       "<table border=\"1\" class=\"dataframe\">\n",
       "  <thead>\n",
       "    <tr style=\"text-align: right;\">\n",
       "      <th></th>\n",
       "      <th>x3</th>\n",
       "    </tr>\n",
       "  </thead>\n",
       "  <tbody>\n",
       "    <tr>\n",
       "      <th>10</th>\n",
       "      <td>0.282233</td>\n",
       "    </tr>\n",
       "    <tr>\n",
       "      <th>11</th>\n",
       "      <td>0.391933</td>\n",
       "    </tr>\n",
       "    <tr>\n",
       "      <th>12</th>\n",
       "      <td>1.602750</td>\n",
       "    </tr>\n",
       "    <tr>\n",
       "      <th>13</th>\n",
       "      <td>1.802217</td>\n",
       "    </tr>\n",
       "  </tbody>\n",
       "</table>\n",
       "</div>"
      ],
      "text/plain": [
       "          x3\n",
       "10  0.282233\n",
       "11  0.391933\n",
       "12  1.602750\n",
       "13  1.802217"
      ]
     },
     "execution_count": 27,
     "metadata": {},
     "output_type": "execute_result"
    }
   ],
   "source": [
    "df.iloc[10:14, [2]]"
   ]
  },
  {
   "cell_type": "markdown",
   "metadata": {},
   "source": [
    "### Step 8\n",
    "\n",
    "Often times you may want to select rows based on the rows meeting certain conditions. This can be done with the syntax of `DataFrame_obj[condition]` where the <b>condition</b> represents some boolean condition on the data. \n",
    "\n",
    "The code cell below uses this method to find out how many rows have a value greater than 1 in column <b>x3</b>. \n",
    "Run the cell below and inspect the results. You will see all of the rows in the DataFrame in which this condition is met."
   ]
  },
  {
   "cell_type": "code",
   "execution_count": 28,
   "metadata": {},
   "outputs": [
    {
     "data": {
      "text/html": [
       "<div>\n",
       "<style scoped>\n",
       "    .dataframe tbody tr th:only-of-type {\n",
       "        vertical-align: middle;\n",
       "    }\n",
       "\n",
       "    .dataframe tbody tr th {\n",
       "        vertical-align: top;\n",
       "    }\n",
       "\n",
       "    .dataframe thead th {\n",
       "        text-align: right;\n",
       "    }\n",
       "</style>\n",
       "<table border=\"1\" class=\"dataframe\">\n",
       "  <thead>\n",
       "    <tr style=\"text-align: right;\">\n",
       "      <th></th>\n",
       "      <th>x1</th>\n",
       "      <th>x2</th>\n",
       "      <th>x3</th>\n",
       "    </tr>\n",
       "  </thead>\n",
       "  <tbody>\n",
       "    <tr>\n",
       "      <th>1</th>\n",
       "      <td>1.986046</td>\n",
       "      <td>1.204430</td>\n",
       "      <td>3.190475</td>\n",
       "    </tr>\n",
       "    <tr>\n",
       "      <th>3</th>\n",
       "      <td>-0.008370</td>\n",
       "      <td>1.115509</td>\n",
       "      <td>1.107138</td>\n",
       "    </tr>\n",
       "    <tr>\n",
       "      <th>12</th>\n",
       "      <td>1.378445</td>\n",
       "      <td>0.224306</td>\n",
       "      <td>1.602750</td>\n",
       "    </tr>\n",
       "    <tr>\n",
       "      <th>13</th>\n",
       "      <td>0.859810</td>\n",
       "      <td>0.942407</td>\n",
       "      <td>1.802217</td>\n",
       "    </tr>\n",
       "    <tr>\n",
       "      <th>15</th>\n",
       "      <td>0.180031</td>\n",
       "      <td>1.528687</td>\n",
       "      <td>1.708719</td>\n",
       "    </tr>\n",
       "    <tr>\n",
       "      <th>19</th>\n",
       "      <td>0.897525</td>\n",
       "      <td>0.564336</td>\n",
       "      <td>1.461861</td>\n",
       "    </tr>\n",
       "    <tr>\n",
       "      <th>23</th>\n",
       "      <td>-0.132139</td>\n",
       "      <td>1.238324</td>\n",
       "      <td>1.106185</td>\n",
       "    </tr>\n",
       "    <tr>\n",
       "      <th>28</th>\n",
       "      <td>1.022930</td>\n",
       "      <td>0.826657</td>\n",
       "      <td>1.849587</td>\n",
       "    </tr>\n",
       "    <tr>\n",
       "      <th>36</th>\n",
       "      <td>0.382968</td>\n",
       "      <td>0.828979</td>\n",
       "      <td>1.211948</td>\n",
       "    </tr>\n",
       "    <tr>\n",
       "      <th>47</th>\n",
       "      <td>0.102774</td>\n",
       "      <td>1.303414</td>\n",
       "      <td>1.406188</td>\n",
       "    </tr>\n",
       "    <tr>\n",
       "      <th>48</th>\n",
       "      <td>0.143620</td>\n",
       "      <td>0.918101</td>\n",
       "      <td>1.061722</td>\n",
       "    </tr>\n",
       "    <tr>\n",
       "      <th>53</th>\n",
       "      <td>0.648403</td>\n",
       "      <td>1.383311</td>\n",
       "      <td>2.031715</td>\n",
       "    </tr>\n",
       "    <tr>\n",
       "      <th>54</th>\n",
       "      <td>1.546022</td>\n",
       "      <td>-0.264674</td>\n",
       "      <td>1.281348</td>\n",
       "    </tr>\n",
       "    <tr>\n",
       "      <th>61</th>\n",
       "      <td>1.347298</td>\n",
       "      <td>1.038138</td>\n",
       "      <td>2.385436</td>\n",
       "    </tr>\n",
       "    <tr>\n",
       "      <th>63</th>\n",
       "      <td>0.637229</td>\n",
       "      <td>2.715548</td>\n",
       "      <td>3.352778</td>\n",
       "    </tr>\n",
       "    <tr>\n",
       "      <th>79</th>\n",
       "      <td>1.966512</td>\n",
       "      <td>-0.955193</td>\n",
       "      <td>1.011319</td>\n",
       "    </tr>\n",
       "    <tr>\n",
       "      <th>90</th>\n",
       "      <td>1.559248</td>\n",
       "      <td>0.231662</td>\n",
       "      <td>1.790910</td>\n",
       "    </tr>\n",
       "    <tr>\n",
       "      <th>91</th>\n",
       "      <td>1.322966</td>\n",
       "      <td>0.720573</td>\n",
       "      <td>2.043539</td>\n",
       "    </tr>\n",
       "  </tbody>\n",
       "</table>\n",
       "</div>"
      ],
      "text/plain": [
       "          x1        x2        x3\n",
       "1   1.986046  1.204430  3.190475\n",
       "3  -0.008370  1.115509  1.107138\n",
       "12  1.378445  0.224306  1.602750\n",
       "13  0.859810  0.942407  1.802217\n",
       "15  0.180031  1.528687  1.708719\n",
       "19  0.897525  0.564336  1.461861\n",
       "23 -0.132139  1.238324  1.106185\n",
       "28  1.022930  0.826657  1.849587\n",
       "36  0.382968  0.828979  1.211948\n",
       "47  0.102774  1.303414  1.406188\n",
       "48  0.143620  0.918101  1.061722\n",
       "53  0.648403  1.383311  2.031715\n",
       "54  1.546022 -0.264674  1.281348\n",
       "61  1.347298  1.038138  2.385436\n",
       "63  0.637229  2.715548  3.352778\n",
       "79  1.966512 -0.955193  1.011319\n",
       "90  1.559248  0.231662  1.790910\n",
       "91  1.322966  0.720573  2.043539"
      ]
     },
     "execution_count": 28,
     "metadata": {},
     "output_type": "execute_result"
    }
   ],
   "source": [
    "d = df[df['x3']>1]\n",
    "d"
   ]
  },
  {
   "cell_type": "markdown",
   "metadata": {},
   "source": [
    "You can use the DataFrame property `shape` to access the row count and see how many rows meet the specified condition. Run the cell below and inspect the results. \n",
    "\n",
    "For more information about the `shape` property, consult the online [documentation](https://pandas.pydata.org/pandas-docs/dev/reference/api/pandas.DataFrame.shape.html)."
   ]
  },
  {
   "cell_type": "code",
   "execution_count": 29,
   "metadata": {},
   "outputs": [
    {
     "data": {
      "text/plain": [
       "18"
      ]
     },
     "execution_count": 29,
     "metadata": {},
     "output_type": "execute_result"
    }
   ],
   "source": [
    "df[df['x3']>1].shape[0]"
   ]
  },
  {
   "cell_type": "code",
   "execution_count": null,
   "metadata": {},
   "outputs": [],
   "source": []
  }
 ],
 "metadata": {
  "kernelspec": {
   "display_name": "Python 3",
   "language": "python",
   "name": "python3"
  },
  "language_info": {
   "codemirror_mode": {
    "name": "ipython",
    "version": 3
   },
   "file_extension": ".py",
   "mimetype": "text/x-python",
   "name": "python",
   "nbconvert_exporter": "python",
   "pygments_lexer": "ipython3",
   "version": "3.6.9"
  },
  "toc": {
   "base_numbering": 1,
   "nav_menu": {},
   "number_sections": false,
   "sideBar": true,
   "skip_h1_title": false,
   "title_cell": "Table of Contents",
   "title_sidebar": "Contents",
   "toc_cell": false,
   "toc_position": {},
   "toc_section_display": true,
   "toc_window_display": false
  },
  "varInspector": {
   "cols": {
    "lenName": 16,
    "lenType": 16,
    "lenVar": 40
   },
   "kernels_config": {
    "python": {
     "delete_cmd_postfix": "",
     "delete_cmd_prefix": "del ",
     "library": "var_list.py",
     "varRefreshCmd": "print(var_dic_list())"
    },
    "r": {
     "delete_cmd_postfix": ") ",
     "delete_cmd_prefix": "rm(",
     "library": "var_list.r",
     "varRefreshCmd": "cat(var_dic_list()) "
    }
   },
   "types_to_exclude": [
    "module",
    "function",
    "builtin_function_or_method",
    "instance",
    "_Feature"
   ],
   "window_display": false
  }
 },
 "nbformat": 4,
 "nbformat_minor": 5
}
